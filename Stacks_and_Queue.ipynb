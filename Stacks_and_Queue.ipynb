{
  "nbformat": 4,
  "nbformat_minor": 0,
  "metadata": {
    "colab": {
      "provenance": [],
      "authorship_tag": "ABX9TyMxAZqIuUVESe9al+8v1n6a",
      "include_colab_link": true
    },
    "kernelspec": {
      "name": "python3",
      "display_name": "Python 3"
    },
    "language_info": {
      "name": "python"
    }
  },
  "cells": [
    {
      "cell_type": "markdown",
      "metadata": {
        "id": "view-in-github",
        "colab_type": "text"
      },
      "source": [
        "<a href=\"https://colab.research.google.com/github/MichaelPaulMeneses/C-Files/blob/main/Stacks_and_Queue.ipynb\" target=\"_parent\"><img src=\"https://colab.research.google.com/assets/colab-badge.svg\" alt=\"Open In Colab\"/></a>"
      ]
    },
    {
      "cell_type": "code",
      "execution_count": 6,
      "metadata": {
        "colab": {
          "base_uri": "https://localhost:8080/"
        },
        "id": "6srX6TkfJDi_",
        "outputId": "cfd6c73c-5729-4269-94fc-cc12ade0ee71"
      },
      "outputs": [
        {
          "output_type": "stream",
          "name": "stdout",
          "text": [
            "Initial stack\n",
            "['a', 'b', 'c']\n",
            "\n",
            "Elements popped from stack:\n",
            "c\n",
            "b\n",
            "a\n",
            "\n",
            "Stack after elements are popped:\n",
            "[]\n"
          ]
        }
      ],
      "source": [
        "stack = []\n",
        " \n",
        "# append() function to push\n",
        "# element in the stack\n",
        "stack.append('a')\n",
        "stack.append('b')\n",
        "stack.append('c')\n",
        " \n",
        "print('Initial stack')\n",
        "print(stack)\n",
        " \n",
        "# pop() function to pop\n",
        "# element from stack in\n",
        "# LIFO order\n",
        "print('\\nElements popped from stack:')\n",
        "print(stack.pop())\n",
        "print(stack.pop())\n",
        "print(stack.pop())\n",
        " \n",
        "print('\\nStack after elements are popped:')\n",
        "print(stack)"
      ]
    },
    {
      "cell_type": "code",
      "source": [
        "from queue import LifoQueue\n",
        " \n",
        "# Initializing a stack\n",
        "stack = LifoQueue(maxsize=5)\n",
        " \n",
        "# qsize() show the number of elements\n",
        "# in the stack\n",
        "print(stack.qsize())\n",
        " \n",
        "# put() function to push\n",
        "# element in the stack\n",
        "stack.put('a')\n",
        "stack.put('b')\n",
        "stack.put('c')\n",
        "stack.put('d')\n",
        "stack.put('e')\n",
        " \n",
        "print(\"Full: \", stack.full())\n",
        "print(\"Size: \", stack.qsize())\n",
        " \n",
        "# get() function to pop\n",
        "# element from stack in\n",
        "# LIFO order\n",
        "print('\\nElements popped from the stack')\n",
        "print(stack.get())\n",
        "print(stack.get())\n",
        "print(stack.get())\n",
        "print(stack.get())\n",
        "print(stack.get())\n",
        "\n",
        "print(\"\\nEmpty: \", stack.empty())"
      ],
      "metadata": {
        "colab": {
          "base_uri": "https://localhost:8080/"
        },
        "id": "E1pkrmE5Jf-j",
        "outputId": "bb6c70a1-c151-478f-93e2-96612625c7e7"
      },
      "execution_count": 13,
      "outputs": [
        {
          "output_type": "stream",
          "name": "stdout",
          "text": [
            "0\n",
            "Full:  True\n",
            "Size:  5\n",
            "\n",
            "Elements popped from the stack\n",
            "e\n",
            "d\n",
            "c\n",
            "b\n",
            "a\n",
            "\n",
            "Empty:  True\n"
          ]
        }
      ]
    },
    {
      "cell_type": "code",
      "source": [
        "class Node:\n",
        "    def __init__(self, value):\n",
        "        self.value = value\n",
        "        self.next = None\n",
        " \n",
        " \n",
        "class Stack:\n",
        " \n",
        "    # Initializing a stack.\n",
        "    # Use a dummy node, which is\n",
        "    # easier for handling edge cases.\n",
        "    def __init__(self):\n",
        "        self.head = Node(\"head\")\n",
        "        self.size = 0\n",
        " \n",
        "    # String representation of the stack\n",
        "    def __str__(self):\n",
        "        cur = self.head.next\n",
        "        out = \"\"\n",
        "        while cur:\n",
        "            out += str(cur.value) + \"->\"\n",
        "            cur = cur.next\n",
        "        return out[:-3]\n",
        " \n",
        "    # Get the current size of the stack\n",
        "    def getSize(self):\n",
        "        return self.size\n",
        " \n",
        "    # Check if the stack is empty\n",
        "    def isEmpty(self):\n",
        "        return self.size == 0\n",
        " \n",
        "    # Get the top item of the stack\n",
        "    def peek(self):\n",
        " \n",
        "        # Sanitary check to see if we\n",
        "        # are peeking an empty stack.\n",
        "        if self.isEmpty():\n",
        "            raise Exception(\"Peeking from an empty stack\")\n",
        "        return self.head.next.value\n",
        " \n",
        "    # Push a value into the stack.\n",
        "    def push(self, value):\n",
        "        node = Node(value)\n",
        "        node.next = self.head.next\n",
        "        self.head.next = node\n",
        "        self.size += 1\n",
        " \n",
        "    # Remove a value from the stack and return.\n",
        "    def pop(self):\n",
        "        if self.isEmpty():\n",
        "            raise Exception(\"Popping from an empty stack\")\n",
        "        remove = self.head.next\n",
        "        self.head.next = self.head.next.next\n",
        "        self.size -= 1\n",
        "        return remove.value\n",
        " \n",
        " \n",
        "# Driver Code\n",
        "if __name__ == \"__main__\":\n",
        "    stack = Stack()\n",
        "    for i in range(1, 11):\n",
        "        stack.push(i)\n",
        "    print(f\"Stack: {stack}\")\n",
        " \n",
        "    for _ in range(1, 6):\n",
        "        remove = stack.pop()\n",
        "        print(f\"Pop: {remove}\")\n",
        "    print(f\"Stack: {stack}\")"
      ],
      "metadata": {
        "colab": {
          "base_uri": "https://localhost:8080/"
        },
        "id": "4yUtg9AOKPQV",
        "outputId": "ddcae58e-5e8b-4b38-ba9f-341aa75eaade"
      },
      "execution_count": 21,
      "outputs": [
        {
          "output_type": "stream",
          "name": "stdout",
          "text": [
            "Stack: 10->9->8->7->6->5->4->3->2->\n",
            "Pop: 10\n",
            "Pop: 9\n",
            "Pop: 8\n",
            "Pop: 7\n",
            "Pop: 6\n",
            "Stack: 5->4->3->2->\n"
          ]
        }
      ]
    },
    {
      "cell_type": "code",
      "source": [
        "# Stack implementation in python\n",
        "\n",
        "\n",
        "# Creating a stack\n",
        "def create_stack():\n",
        "    stack = []\n",
        "    return stack\n",
        "\n",
        "\n",
        "# Creating an empty stack\n",
        "def check_empty(stack):\n",
        "    return len(stack) == 0\n",
        "\n",
        "\n",
        "# Adding items into the stack\n",
        "def push(stack, item):\n",
        "    stack.append(item)\n",
        "    print(\"pushed item: \" + item)\n",
        "\n",
        "\n",
        "# Removing an element from the stack\n",
        "def pop(stack):\n",
        "    if (check_empty(stack)):\n",
        "        return \"stack is empty\"\n",
        "\n",
        "    return stack.pop()\n",
        "\n",
        "\n",
        "stack = create_stack()\n",
        "push(stack, str(1))\n",
        "push(stack, str(2))\n",
        "push(stack, str(3))\n",
        "push(stack, str(4))\n",
        "print(\"popped item: \" + pop(stack))\n",
        "print(\"stack after popping an element: \" + str(stack))"
      ],
      "metadata": {
        "colab": {
          "base_uri": "https://localhost:8080/"
        },
        "id": "djYw-HUoK4MH",
        "outputId": "bc99a3e1-116c-486b-9273-f437ce5fd51c"
      },
      "execution_count": 22,
      "outputs": [
        {
          "output_type": "stream",
          "name": "stdout",
          "text": [
            "pushed item: 1\n",
            "pushed item: 2\n",
            "pushed item: 3\n",
            "pushed item: 4\n",
            "popped item: 4\n",
            "stack after popping an element: ['1', '2', '3']\n"
          ]
        }
      ]
    },
    {
      "cell_type": "code",
      "source": [
        "from queue import Queue\n",
        "  \n",
        "# Initializing a queue\n",
        "q = Queue(maxsize = 6)\n",
        "  \n",
        "# qsize() give the maxsize \n",
        "# of the Queue \n",
        "print(q.qsize()) \n",
        "  \n",
        "# Adding of element to queue\n",
        "q.put('a')\n",
        "q.put('b')\n",
        "q.put('c')\n",
        "q.put('d')\n",
        "\n",
        "# Return Boolean for Full \n",
        "# Queue \n",
        "print(\"\\nFull: \", q.full()) \n",
        "  \n",
        "# Removing element from queue\n",
        "print(\"\\nElements dequeued from the queue\")\n",
        "print(q.get())\n",
        "print(q.get())\n",
        "print(q.get())\n",
        "print(q.get()) \n",
        "\n",
        "# Return Boolean for Empty \n",
        "# Queue \n",
        "print(\"\\nEmpty: \", q.empty())\n",
        "  \n",
        "q.put(1)\n",
        "print(\"\\nEmpty: \", q.empty()) \n",
        "print(\"Full: \", q.full())"
      ],
      "metadata": {
        "colab": {
          "base_uri": "https://localhost:8080/"
        },
        "id": "EUN8VXOuLY2H",
        "outputId": "03fa7a71-f5ea-4768-9ca5-e7828c4b759e"
      },
      "execution_count": 25,
      "outputs": [
        {
          "output_type": "stream",
          "name": "stdout",
          "text": [
            "0\n",
            "\n",
            "Full:  False\n",
            "\n",
            "Elements dequeued from the queue\n",
            "a\n",
            "b\n",
            "c\n",
            "d\n",
            "\n",
            "Empty:  True\n",
            "\n",
            "Empty:  False\n",
            "Full:  False\n"
          ]
        }
      ]
    }
  ]
}